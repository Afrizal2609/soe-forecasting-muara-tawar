{
  "nbformat": 4,
  "nbformat_minor": 0,
  "metadata": {
    "colab": {
      "provenance": [],
      "authorship_tag": "ABX9TyP5rDgPmkNoERy15DG+fkMG",
      "include_colab_link": true
    },
    "kernelspec": {
      "name": "python3",
      "display_name": "Python 3"
    },
    "language_info": {
      "name": "python"
    }
  },
  "cells": [
    {
      "cell_type": "markdown",
      "metadata": {
        "id": "view-in-github",
        "colab_type": "text"
      },
      "source": [
        "<a href=\"https://colab.research.google.com/github/Afrizal2609/soe-forecasting-muara-tawar/blob/main/Txt_to_EXCEL_SOE.ipynb\" target=\"_parent\"><img src=\"https://colab.research.google.com/assets/colab-badge.svg\" alt=\"Open In Colab\"/></a>"
      ]
    },
    {
      "cell_type": "code",
      "execution_count": null,
      "metadata": {
        "id": "y-lSf_q8tf-s"
      },
      "outputs": [],
      "source": [
        "import re\n",
        "import pandas as pd\n",
        "\n",
        "\n",
        "with open('/content/221118FILE01.txt', encoding= 'unicode_escape') as f:\n",
        "  with open(\"2021.txt\",\"w\") as d:\n",
        "    for line in f:\n",
        "      t = re.search(r\"[0-9]{2}:[0-9]{2}:[0-9]{2}.[0-91]{3}\", line)\n",
        "      if t != None:\n",
        "        d.writelines(line)\n",
        "        \n",
        "      #et = re.search(r\"[A-Z]{1,2}\", line)\n",
        "      #eq = re.search(r\"[0-9]{2}[A-Z]{3}[0-9]{2}[A-Z]{2}[A-Z0-9]{0,4}\", line)\n",
        "      #e = re.search(r\"[A-Z0-9]{4}[\\s][A-Z0-9]{2}.*[ ]{2}\", line)\n",
        "      #c= re.search(r\"\\s[?\\[](\\w+)[?\\]]$|\\s(\\w+)$\", line)\n",
        "      #if e != None:\n",
        "        #print(e.group())"
      ]
    },
    {
      "cell_type": "code",
      "execution_count": null,
      "metadata": {
        "id": "Hlfz-_qVy1I8"
      },
      "outputs": [],
      "source": [
        "import re\n",
        "import pandas as pd\n",
        "\n",
        "\n",
        "df = pd.DataFrame(columns=[\"Time\", \"Type\", \"Equipment\", \"Event\", \"Status\", \"Code\"])\n",
        "\n",
        "\n",
        "with open('/content/2021.txt', encoding= 'unicode_escape') as f:\n",
        "  for line in f:\n",
        "    result = re.split(r'\\s{2,}', line)\n",
        "    if len(result)>5:\n",
        "      new_row={\"Time\":result[0], \"Type\":result[1], \"Equipment\":result[2], \"Event\":result[3], \"Status\":result[4], \"Code\":result[5]}\n",
        "      df= df.append(new_row, ignore_index=True)\n",
        "    if len(result)==5:\n",
        "      new_row={\"Time\":result[0], \"Type\":result[1], \"Equipment\":result[2], \"Event\":result[3], \"Status\":result[4]}\n",
        "      df= df.append(new_row, ignore_index=True)\n",
        "    else :\n",
        "      new_row={\"Time\":result[0], \"Type\":result[1], \"Equipment\":result[2], \"Event\":result[3]}\n",
        "      df= df.append(new_row, ignore_index=True)\n",
        "\n"
      ]
    },
    {
      "cell_type": "code",
      "source": [
        "df.head()\n",
        "df.to_excel(\"2021.xlsx\")"
      ],
      "metadata": {
        "id": "LqFqyVRMHUY6"
      },
      "execution_count": null,
      "outputs": []
    }
  ]
}